{
 "cells": [
  {
   "cell_type": "markdown",
   "metadata": {},
   "source": [
    "# Practical 1: Load and display a dataset using Python\n",
    "\n",
    "In this pratical, we will load a dataset in the .csv format, which describes the housing price in Boston. This is a small dataset with only 506 cases. But it would be a good illustration how Python can be used for loading a dataset. The data was originally published by Harrison, D. and Rubinfeld, D.L. Hedonic prices and the demand for clean air, J. Environ. Economics & Management, vol.5, 81-102, 1978.\n",
    "\n",
    "## Download data\n",
    "A copy of the .csv data is already there if you git clone from this repository. The .csv format is a format for spreadsheet, which means you can open it using Microsoft Excel or Libreoffice.\n",
    "\n",
    "## Import libraries\n",
    "The pandas library is used for loading datasets and for data analysis. The matplotlib library is used for the data visualisation. The sklearn library is used for linear regression.\n",
    "\n",
    "Importing the libraries is the first step we will take in the lesson."
   ]
  },
  {
   "cell_type": "code",
   "execution_count": null,
   "metadata": {},
   "outputs": [],
   "source": [
    "import pandas as pd\n",
    "import matplotlib.pyplot as plt\n",
    "from sklearn.linear_model import LinearRegression"
   ]
  },
  {
   "cell_type": "markdown",
   "metadata": {},
   "source": [
    "## Load data\n",
    "The dataset is in .csv format. We use the read_csv() function to load it. Then we display the size of the dataset and the first several lines in the dataset."
   ]
  },
  {
   "cell_type": "code",
   "execution_count": null,
   "metadata": {},
   "outputs": [],
   "source": [
    "df = pd.read_csv('BostonHousing.csv')\n",
    "print(df.shape)\n",
    "print(df.head())"
   ]
  },
  {
   "cell_type": "markdown",
   "metadata": {},
   "source": [
    "# Dataset\n",
    "Each row is a case of the housing price. There are 506 cases in total. Each column is an attribute, there are 14 attributes, including:\n",
    "\n",
    "**crim**: per capita crime rate by town\n",
    "\n",
    "**zn**: proportion of residential land zoned for lots over 25,000 sq.ft.\n",
    "\n",
    "**indus**: proportion of non-retail business acres per town\n",
    "\n",
    "**chas**: Charles River dummy variable (1 if tract bounds river; 0 otherwise)\n",
    "\n",
    "**nox**: nitric oxides concentration (parts per 10 million)\n",
    "\n",
    "**rm**: average number of rooms per dwelling\n",
    "\n",
    "**age**: proportion of owner-occupied units built prior to 1940\n",
    "\n",
    "**dis**: weighted distances to five Boston employment centres\n",
    "\n",
    "**rad**: index of accessibility to radial highways\n",
    "\n",
    "**tax**: full-value property-tax rate per \\$10,000\n",
    "\n",
    "**ptratio**: pupil-teacher ratio by town\n",
    "\n",
    "**b**: 1000(Bk - 0.63)^2 where Bk is the proportion of blacks by town\n",
    "\n",
    "**lstat**: lower status of the population\n",
    "\n",
    "**medv**: Median value of owner-occupied homes in $1000's\n",
    "\n",
    "# Simple statistics\n",
    "Let's first look at the statistics of the house prices, including the mean and standard deviation."
   ]
  },
  {
   "cell_type": "code",
   "execution_count": null,
   "metadata": {},
   "outputs": [],
   "source": [
    "print('Mean = {0}, Std = {1}'.format(df['medv'].mean(), df['medv'].std()))"
   ]
  },
  {
   "cell_type": "markdown",
   "metadata": {},
   "source": [
    "# Simple visualisation\n",
    "Let's look at the distribution of the house prices using matplotlib for visualisation."
   ]
  },
  {
   "cell_type": "code",
   "execution_count": null,
   "metadata": {},
   "outputs": [],
   "source": [
    "plt.hist(df['medv'])\n",
    "plt.xlabel('Price ($1000\\'s)')\n",
    "plt.ylabel('Count')"
   ]
  },
  {
   "cell_type": "markdown",
   "metadata": {},
   "source": [
    "Now look at the housing price agains the crime rate."
   ]
  },
  {
   "cell_type": "code",
   "execution_count": null,
   "metadata": {},
   "outputs": [],
   "source": [
    "plt.scatter(df['crim'], df['medv'])\n",
    "plt.xlabel('Crime rate')\n",
    "plt.ylabel('Price ($1000\\'s)')"
   ]
  },
  {
   "cell_type": "markdown",
   "metadata": {},
   "source": [
    "# Exercise\n",
    "Would you like to do more plots for other attributes please?"
   ]
  },
  {
   "cell_type": "markdown",
   "metadata": {},
   "source": [
    "# Simple analysis\n",
    "\n",
    "Finally, let's try a simple linear regression model for fitting and predicting the house prices, using the other 13 attributes."
   ]
  },
  {
   "cell_type": "code",
   "execution_count": null,
   "metadata": {},
   "outputs": [],
   "source": [
    "model = LinearRegression()\n",
    "X = df.iloc[:, :13]\n",
    "price = df.iloc[:, 13]\n",
    "model.fit(X, price)\n",
    "predicted = model.predict(X)\n",
    "plt.scatter(price, predicted)\n",
    "plt.xlim([0, 55])\n",
    "plt.ylim([0, 55])\n",
    "plt.xlabel('True price ($1000\\'s)')\n",
    "plt.ylabel('Predicted price ($1000\\'s)')"
   ]
  },
  {
   "cell_type": "markdown",
   "metadata": {},
   "source": [
    "# Exercise\n",
    "\n",
    "Would you like to check the documentation of sklearn.LinearRegression() to see what it does please?"
   ]
  },
  {
   "cell_type": "markdown",
   "metadata": {},
   "source": [
    "# Exercise\n",
    "\n",
    "Would you like to check what the dataset that you have downloaded look like please?\n",
    "\n",
    "If it is in .csv format, do something similar. Otherwise, what format is it? Is it easy to read?"
   ]
  },
  {
   "cell_type": "markdown",
   "metadata": {},
   "source": [
    "# The end"
   ]
  },
  {
   "cell_type": "code",
   "execution_count": null,
   "metadata": {},
   "outputs": [],
   "source": []
  }
 ],
 "metadata": {
  "kernelspec": {
   "display_name": "Python 3",
   "language": "python",
   "name": "python3"
  },
  "language_info": {
   "codemirror_mode": {
    "name": "ipython",
    "version": 3
   },
   "file_extension": ".py",
   "mimetype": "text/x-python",
   "name": "python",
   "nbconvert_exporter": "python",
   "pygments_lexer": "ipython3",
   "version": "3.5.2"
  }
 },
 "nbformat": 4,
 "nbformat_minor": 2
}
