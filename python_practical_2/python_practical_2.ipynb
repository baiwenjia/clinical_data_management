{
 "cells": [
  {
   "cell_type": "markdown",
   "metadata": {},
   "source": [
    "## Python practical: Data privacy\n",
    "\n",
    "In this practical, you will be given two datasets, a clinical dataset (which is semi-real) and a query dataset. The task is to find the matching subject ID in the clinical dataset for each of the query data. This will help you understand the importance of data privacy and sensitive information.\n",
    "\n",
    "You will mainly use two libraries, pandas and numpy, in this practical.\n",
    "\n",
    "We have prepared the model answer at the answer directory. Maybe you are not yet familiar with pandas and numpy. In that case, you may read the answer for Questions 1 and 2. Then you can easily solve Questions 3 and 4 by yourself. But maybe you would also like to do some googling, programming and challenge yourself. Why not?"
   ]
  },
  {
   "cell_type": "code",
   "execution_count": null,
   "metadata": {},
   "outputs": [],
   "source": [
    "# Import libaries\n",
    "import numpy as np\n",
    "import pandas as pd"
   ]
  },
  {
   "cell_type": "markdown",
   "metadata": {},
   "source": [
    "## Question 1: Load data\n",
    "\n",
    "The filenames for the two datasets are data.csv and query.csv. The first column of data.csv is the subject ID. For query.csv, we do not have the information about subject ID.\n",
    "\n",
    "Please display the first few rows of data using the head() function in pandas. How many subjects are there in the data set and the query set?"
   ]
  },
  {
   "cell_type": "markdown",
   "metadata": {},
   "source": [
    "## Question 2: Matching by age\n",
    "\n",
    "Using only age information, for each row in query.csv, how many matching subjects can you find in data.csv?"
   ]
  },
  {
   "cell_type": "markdown",
   "metadata": {},
   "source": [
    "## Question 2: Matching by age range\n",
    "\n",
    "We have prepared another two datasets for you. The filenames are data2.csv and query2.csv. In the new spreadsheets, the age information is replaced by age range, such as 40 to 50 years old.\n",
    "\n",
    "Please load the two datasets and re-do the matching. How many matching subjects can you find in data2.csv using only age range information? Do you get more matches or less?"
   ]
  },
  {
   "cell_type": "markdown",
   "metadata": {},
   "source": [
    "## Question 3: Matching by age range, race and gender\n",
    "\n",
    "Still use data2.csv and query2.csv. This time, using three columns of information (age range, race and gender). How many matching subjects can you find in data2.csv now? Could you comment on why for some query subjects, we find a small number of matches please (i.e. we almost find the subject)?"
   ]
  },
  {
   "cell_type": "markdown",
   "metadata": {},
   "source": [
    "## Question 4: Matching using all information we have\n",
    "\n",
    "Using all the columns of information we have, how many matching subjects can you find in data2.csv? What are the subject IDs? Are these correct? You can compare to the answer at answer/query_answer.csv."
   ]
  },
  {
   "cell_type": "code",
   "execution_count": null,
   "metadata": {},
   "outputs": [],
   "source": []
  }
 ],
 "metadata": {
  "kernelspec": {
   "display_name": "Python 3",
   "language": "python",
   "name": "python3"
  },
  "language_info": {
   "codemirror_mode": {
    "name": "ipython",
    "version": 3
   },
   "file_extension": ".py",
   "mimetype": "text/x-python",
   "name": "python",
   "nbconvert_exporter": "python",
   "pygments_lexer": "ipython3",
   "version": "3.6.6"
  }
 },
 "nbformat": 4,
 "nbformat_minor": 2
}
