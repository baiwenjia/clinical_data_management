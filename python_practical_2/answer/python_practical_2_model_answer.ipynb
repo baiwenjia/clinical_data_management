{
 "cells": [
  {
   "cell_type": "markdown",
   "metadata": {},
   "source": [
    "## Python practical: Data privacy\n",
    "\n",
    "In this practical, you will be given two datasets, a clinical dataset (which is adapted from \\[1\\] but with the age information modified) and a query dataset. The task is to find the matching subject ID in the clinical dataset for each of the query data. This will help you understand the importance of data privacy and sensitive information.\n",
    "\n",
    "\\[1\\] [Diabetes 130-US hospitals for years 1999-2008 Data Set](https://archive.ics.uci.edu/ml/datasets/Diabetes+130-US+hospitals+for+years+1999-2008). For more detail, please refer to Table 1 in this paper: Beata Strack et al. Impact of HbA1c Measurement on Hospital Readmission Rates: Analysis of 70,000 Clinical Database Patient Records, BioMed Research International, 2014.\n",
    "\n",
    "\n",
    "You will mainly use pandas and numpy libraries in this practical.\n",
    "\n",
    "We have prepared the model answer at the answer directory. Maybe you are not yet familiar with pandas and numpy. In that case, you may read the answer for Questions 1 and 2. Then you can easily solve Questions 3 and 4 by yourself. But maybe you would also like to do some googling, programming and challenge yourself. Why not?"
   ]
  },
  {
   "cell_type": "code",
   "execution_count": null,
   "metadata": {},
   "outputs": [],
   "source": [
    "# Import libaries\n",
    "import numpy as np\n",
    "import pandas as pd"
   ]
  },
  {
   "cell_type": "markdown",
   "metadata": {},
   "source": [
    "## Question 1: Load data\n",
    "\n",
    "The filenames for the two datasets are data.csv and query.csv. The first column of data.csv is the subject ID. For query.csv, we do not have the information about subject ID.\n",
    "\n",
    "Please display the first few rows of data using the head() function in pandas. How many subjects are there in the data set and the query set?"
   ]
  },
  {
   "cell_type": "code",
   "execution_count": null,
   "metadata": {},
   "outputs": [],
   "source": [
    "df = pd.read_csv('data.csv', index_col=0)\n",
    "df_query = pd.read_csv('query.csv', index_col=None)"
   ]
  },
  {
   "cell_type": "code",
   "execution_count": null,
   "metadata": {},
   "outputs": [],
   "source": [
    "df.head()"
   ]
  },
  {
   "cell_type": "code",
   "execution_count": null,
   "metadata": {},
   "outputs": [],
   "source": [
    "df_query.head()"
   ]
  },
  {
   "cell_type": "code",
   "execution_count": null,
   "metadata": {},
   "outputs": [],
   "source": [
    "print('{0} subjects in data.csv.'.format(len(df)))\n",
    "print('{0} subjects in query.csv.'.format(len(df_query)))"
   ]
  },
  {
   "cell_type": "markdown",
   "metadata": {},
   "source": [
    "## Question 2: Matching by age\n",
    "\n",
    "Using only age information, for each row in query.csv, how many matching subjects can you find in data.csv?"
   ]
  },
  {
   "cell_type": "code",
   "execution_count": null,
   "metadata": {},
   "outputs": [],
   "source": [
    "n_query = len(df_query)\n",
    "n_subj = len(df)\n",
    "\n",
    "for i in range(n_query):\n",
    "    print('Query {0}'.format(i))\n",
    "    distance = np.zeros((n_subj))\n",
    "    for j in range(n_subj):\n",
    "        # Evaluate the distance between the query data and each subject data\n",
    "        distance[j] = np.sum(df_query.iloc[i]['age'] != df.iloc[j]['age'])\n",
    "    match_ids = np.nonzero(distance == distance.min())[0]\n",
    "    print('{0} subjects matched. They are:'.format(len(match_ids)))\n",
    "    print([df.index[k] for k in match_ids])"
   ]
  },
  {
   "cell_type": "markdown",
   "metadata": {},
   "source": [
    "## Question 2: Matching by age range\n",
    "\n",
    "We have prepared another two datasets for you. The filenames are data2.csv and query2.csv. In the new spreadsheets, the age information is replaced by age range, such as 40 to 50 years old.\n",
    "\n",
    "Please load the two datasets and re-do the matching. How many matching subjects can you find in data2.csv using only age range information? Do you get more matches or less?"
   ]
  },
  {
   "cell_type": "code",
   "execution_count": null,
   "metadata": {},
   "outputs": [],
   "source": [
    "df2 = pd.read_csv('data2.csv', index_col=0)\n",
    "df_query2 = pd.read_csv('query2.csv', index_col=None)"
   ]
  },
  {
   "cell_type": "code",
   "execution_count": null,
   "metadata": {},
   "outputs": [],
   "source": [
    "n_query = len(df_query2)\n",
    "n_subj = len(df2)\n",
    "\n",
    "for i in range(n_query):\n",
    "    print('Query {0}'.format(i))\n",
    "    distance = np.zeros((n_subj))\n",
    "    for j in range(n_subj):\n",
    "        # Evaluate the distance between the query data and each subject data\n",
    "        distance[j] = np.sum(df_query2.iloc[i]['age'] != df2.iloc[j]['age'])\n",
    "    match_ids = np.nonzero(distance == distance.min())[0]\n",
    "    print('{0} subjects matched. They are:'.format(len(match_ids)))\n",
    "    print([df.index[k] for k in match_ids])"
   ]
  },
  {
   "cell_type": "markdown",
   "metadata": {},
   "source": [
    "## Question 3: Matching by age range, race and gender\n",
    "\n",
    "Still use data2.csv and query2.csv. This time, using three columns of information (age range, race and gender). How many matching subjects can you find in data2.csv now? Could you comment on why for some query subjects, we find a small number of matches please (i.e. we almost find the subject)?"
   ]
  },
  {
   "cell_type": "code",
   "execution_count": null,
   "metadata": {
    "scrolled": true
   },
   "outputs": [],
   "source": [
    "n_query = len(df_query2)\n",
    "n_subj = len(df2)\n",
    "\n",
    "for i in range(n_query):\n",
    "    print('Query {0}'.format(i))\n",
    "    distance = np.zeros((n_subj))\n",
    "    for j in range(n_subj):\n",
    "        # Evaluate the distance between the query data and each subject data\n",
    "        distance[j] = np.sum(df_query2.iloc[i][:3] != df2.iloc[j][:3])\n",
    "    match_ids = np.nonzero(distance == distance.min())[0]\n",
    "    print('{0} subjects matched. They are:'.format(len(match_ids)))\n",
    "    print([df.index[k] for k in match_ids])"
   ]
  },
  {
   "cell_type": "markdown",
   "metadata": {},
   "source": [
    "# Question 4: Matching using all information we have\n",
    "\n",
    "Using all the columns of information we have, how many matching subjects can you find in data2.csv? What are the subject IDs? Are these correct? You can compare to the answer at answer/query_answer.csv."
   ]
  },
  {
   "cell_type": "code",
   "execution_count": null,
   "metadata": {},
   "outputs": [],
   "source": [
    "n_query = len(df_query2)\n",
    "n_subj = len(df2)\n",
    "\n",
    "for i in range(n_query):\n",
    "    print('Query {0}'.format(i))\n",
    "    distance = np.zeros((n_subj))\n",
    "    for j in range(n_subj):\n",
    "        # Evaluate the distance between the query data and each subject data\n",
    "        distance[j] = np.sum(df_query2.iloc[i] != df2.iloc[j])\n",
    "    match_ids = np.nonzero(distance == distance.min())[0]\n",
    "    print('{0} subjects matched. They are:'.format(len(match_ids)))\n",
    "    for j in match_ids:\n",
    "        print([df.index[k] for k in match_ids])"
   ]
  },
  {
   "cell_type": "code",
   "execution_count": null,
   "metadata": {},
   "outputs": [],
   "source": []
  }
 ],
 "metadata": {
  "kernelspec": {
   "display_name": "Python 3",
   "language": "python",
   "name": "python3"
  },
  "language_info": {
   "codemirror_mode": {
    "name": "ipython",
    "version": 3
   },
   "file_extension": ".py",
   "mimetype": "text/x-python",
   "name": "python",
   "nbconvert_exporter": "python",
   "pygments_lexer": "ipython3",
   "version": "3.6.6"
  }
 },
 "nbformat": 4,
 "nbformat_minor": 2
}
