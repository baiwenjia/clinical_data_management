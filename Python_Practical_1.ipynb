{
 "cells": [
  {
   "cell_type": "markdown",
   "metadata": {},
   "source": [
    "# Practical 1: Load and display a dataset using Python\n",
    "\n",
    "In this pratical, we will load a dataset in the .csv format, which describes the housing price in Boston. This is a small dataset with only 506 cases. But it would be a good illustration how Python can be used for loading a dataset. The data was originally published by Harrison, D. and Rubinfeld, D.L. Hedonic prices and the demand for clean air, J. Environ. Economics & Management, vol.5, 81-102, 1978.\n",
    "\n",
    "## Download data\n",
    "Before we perform anything using Python, please download the dataset first to your computer using this link: https://raw.githubusercontent.com/selva86/datasets/master/BostonHousing.csv\n",
    "\n",
    "## Import libraries\n",
    "The pandas library is used for loading datasets and for data analysis. The matplotlib library is used for the data visualisation. The sklearn library is used for linear regression.\n",
    "\n",
    "Importing the libraries is the first step we will take in the lesson."
   ]
  },
  {
   "cell_type": "code",
   "execution_count": 19,
   "metadata": {},
   "outputs": [],
   "source": [
    "import pandas as pd\n",
    "import matplotlib.pyplot as plt\n",
    "from sklearn.linear_model import LinearRegression"
   ]
  },
  {
   "cell_type": "markdown",
   "metadata": {},
   "source": [
    "## Load data\n",
    "The dataset is in .csv format. We use the read_csv() function to load it. Then we display the size of the dataset and the first several lines in the dataset."
   ]
  },
  {
   "cell_type": "code",
   "execution_count": 8,
   "metadata": {},
   "outputs": [
    {
     "name": "stdout",
     "output_type": "stream",
     "text": [
      "(506, 14)\n",
      "      crim    zn  indus  chas    nox     rm   age     dis  rad  tax  ptratio  \\\n",
      "0  0.00632  18.0   2.31     0  0.538  6.575  65.2  4.0900    1  296     15.3   \n",
      "1  0.02731   0.0   7.07     0  0.469  6.421  78.9  4.9671    2  242     17.8   \n",
      "2  0.02729   0.0   7.07     0  0.469  7.185  61.1  4.9671    2  242     17.8   \n",
      "3  0.03237   0.0   2.18     0  0.458  6.998  45.8  6.0622    3  222     18.7   \n",
      "4  0.06905   0.0   2.18     0  0.458  7.147  54.2  6.0622    3  222     18.7   \n",
      "\n",
      "        b  lstat  medv  \n",
      "0  396.90   4.98  24.0  \n",
      "1  396.90   9.14  21.6  \n",
      "2  392.83   4.03  34.7  \n",
      "3  394.63   2.94  33.4  \n",
      "4  396.90   5.33  36.2  \n"
     ]
    }
   ],
   "source": [
    "df = pd.read_csv('C:/Users/wbai/Downloads/BostonHousing.csv')\n",
    "print(df.shape)\n",
    "print(df.head())"
   ]
  },
  {
   "cell_type": "markdown",
   "metadata": {},
   "source": [
    "# Dataset\n",
    "Each row is a case of the housing price. There are 506 cases in total. Each column is an attribute, there are 14 attributes, including:\n",
    "\n",
    "**crim**: per capita crime rate by town\n",
    "\n",
    "**zn**: proportion of residential land zoned for lots over 25,000 sq.ft.\n",
    "\n",
    "**indus**: proportion of non-retail business acres per town\n",
    "\n",
    "**chas**: Charles River dummy variable (1 if tract bounds river; 0 otherwise)\n",
    "\n",
    "**nox**: nitric oxides concentration (parts per 10 million)\n",
    "\n",
    "**rm**: average number of rooms per dwelling\n",
    "\n",
    "**age**: proportion of owner-occupied units built prior to 1940\n",
    "\n",
    "**dis**: weighted distances to five Boston employment centres\n",
    "\n",
    "**rad**: index of accessibility to radial highways\n",
    "\n",
    "**tax**: full-value property-tax rate per \\$10,000\n",
    "\n",
    "**ptratio**: pupil-teacher ratio by town\n",
    "\n",
    "**b**: 1000(Bk - 0.63)^2 where Bk is the proportion of blacks by town\n",
    "\n",
    "**lstat**: lower status of the population\n",
    "\n",
    "**medv**: Median value of owner-occupied homes in $1000's\n",
    "\n",
    "# Simple statistics\n",
    "Let's first look at the statistics of the house prices, including the mean and standard deviation."
   ]
  },
  {
   "cell_type": "code",
   "execution_count": 18,
   "metadata": {},
   "outputs": [
    {
     "name": "stdout",
     "output_type": "stream",
     "text": [
      "Mean = 22.532806324110698, Std = 9.19710408737982\n"
     ]
    }
   ],
   "source": [
    "print('Mean = {0}, Std = {1}'.format(df['medv'].mean(), df['medv'].std()))"
   ]
  },
  {
   "cell_type": "markdown",
   "metadata": {},
   "source": [
    "# Simple visualisation\n",
    "Let's look at the distribution of the house prices using matplotlib for visualisation."
   ]
  },
  {
   "cell_type": "code",
   "execution_count": 21,
   "metadata": {},
   "outputs": [
    {
     "data": {
      "text/plain": [
       "Text(0,0.5,'Count')"
      ]
     },
     "execution_count": 21,
     "metadata": {},
     "output_type": "execute_result"
    },
    {
     "data": {
      "image/png": "[encoded data removed]",
      "text/plain": [
       "<Figure size 432x288 with 1 Axes>"
      ]
     },
     "metadata": {},
     "output_type": "display_data"
    }
   ],
   "source": [
    "plt.hist(df['medv'])\n",
    "plt.xlabel('Price ($1000\\'s)')\n",
    "plt.ylabel('Count')"
   ]
  },
  {
   "cell_type": "markdown",
   "metadata": {},
   "source": [
    "Now look at the housing price agains the crime rate."
   ]
  },
  {
   "cell_type": "code",
   "execution_count": 27,
   "metadata": {},
   "outputs": [
    {
     "data": {
      "text/plain": [
       "Text(0,0.5,\"Price ($1000's)\")"
      ]
     },
     "execution_count": 27,
     "metadata": {},
     "output_type": "execute_result"
    },
    {
     "data": {
      "image/png": "[encoded data removed]",
      "text/plain": [
       "<Figure size 432x288 with 1 Axes>"
      ]
     },
     "metadata": {},
     "output_type": "display_data"
    }
   ],
   "source": [
    "plt.scatter(df['crim'], df['medv'])\n",
    "plt.xlabel('Crime rate')\n",
    "plt.ylabel('Price ($1000\\'s)')"
   ]
  },
  {
   "cell_type": "markdown",
   "metadata": {},
   "source": [
    "# Exercise\n",
    "Would you like to do more plots for other attributes please?"
   ]
  },
  {
   "cell_type": "markdown",
   "metadata": {},
   "source": [
    "# Simple analysis\n",
    "\n",
    "Finally, let's try a simple linear regression model for fitting and predicting the house prices, using the other 13 attributes."
   ]
  },
  {
   "cell_type": "code",
   "execution_count": 34,
   "metadata": {},
   "outputs": [
    {
     "data": {
      "text/plain": [
       "Text(0,0.5,\"Predicted price ($1000's)\")"
      ]
     },
     "execution_count": 34,
     "metadata": {},
     "output_type": "execute_result"
    },
    {
     "data": {
      "image/png": "[encoded data removed]",
      "text/plain": [
       "<Figure size 432x288 with 1 Axes>"
      ]
     },
     "metadata": {},
     "output_type": "display_data"
    }
   ],
   "source": [
    "model = LinearRegression()\n",
    "X = df.iloc[:, :13]\n",
    "price = df.iloc[:, 13]\n",
    "model.fit(X, price)\n",
    "predicted = model.predict(X)\n",
    "plt.scatter(price, predicted)\n",
    "plt.xlim([0, 55])\n",
    "plt.ylim([0, 55])\n",
    "plt.xlabel('True price ($1000\\'s)')\n",
    "plt.ylabel('Predicted price ($1000\\'s)')"
   ]
  },
  {
   "cell_type": "markdown",
   "metadata": {},
   "source": [
    "# Exercise\n",
    "\n",
    "Would you like to check the documentation of sklearn.LinearRegression() to see what it does please?"
   ]
  },
  {
   "cell_type": "markdown",
   "metadata": {},
   "source": [
    "# Exercise\n",
    "\n",
    "Would you like to check what the dataset that you have downloaded look like please?"
   ]
  },
  {
   "cell_type": "markdown",
   "metadata": {},
   "source": [
    "# The end"
   ]
  },
  {
   "cell_type": "code",
   "execution_count": null,
   "metadata": {},
   "outputs": [],
   "source": []
  }
 ],
 "metadata": {
  "kernelspec": {
   "display_name": "Python 3",
   "language": "python",
   "name": "python3"
  },
  "language_info": {
   "codemirror_mode": {
    "name": "ipython",
    "version": 3
   },
   "file_extension": ".py",
   "mimetype": "text/x-python",
   "name": "python",
   "nbconvert_exporter": "python",
   "pygments_lexer": "ipython3",
   "version": "3.6.5"
  }
 },
 "nbformat": 4,
 "nbformat_minor": 2
}
